{
 "cells": [
  {
   "cell_type": "code",
   "execution_count": 14,
   "metadata": {},
   "outputs": [],
   "source": [
    "import pandas as pd\n",
    "import numpy as np\n",
    "\n",
    "df = pd.read_csv('iit.csv')\n",
    "# i = 0\n",
    "# for x in df['Institute Name']:\n",
    "#     y = x[1:]\n",
    "#     df.loc[i, ['Institute Name']] = y\n",
    "#     i += 1\n",
    "\n",
    "# df.to_csv('IIT.csv')\n",
    "data = pd.read_csv('josaa_final_data.csv')\n"
   ]
  },
  {
   "cell_type": "code",
   "execution_count": null,
   "metadata": {},
   "outputs": [],
   "source": [
    "indexes = df.index\n",
    "for college in df['Institute Name']:\n",
    "    dict_2016={}\n",
    "    dict_2017={}\n",
    "    dict_2018={}\n",
    "    dict_2019={}\n",
    "    dict_2020={}\n",
    "    dict_2021={}\n",
    "    dict_2022={}\n",
    "    for ind in indexes:\n",
    "        if df.iloc[i,0]==\"Indian Institute of Technology Delhi\" and df.iloc[i,4]==\"Female-only (including Supernumerary)\" and df.iloc[i,3]==\"OPEN\" and df.iloc[i,8]==6 and df.iloc[i,1]==\"Biotechnology and Biochemical Engineering (4 Years, Bachelor of Technology)\":\n",
    "    "
   ]
  }
 ],
 "metadata": {
  "kernelspec": {
   "display_name": "base",
   "language": "python",
   "name": "python3"
  },
  "language_info": {
   "codemirror_mode": {
    "name": "ipython",
    "version": 3
   },
   "file_extension": ".py",
   "mimetype": "text/x-python",
   "name": "python",
   "nbconvert_exporter": "python",
   "pygments_lexer": "ipython3",
   "version": "3.10.9"
  },
  "orig_nbformat": 4
 },
 "nbformat": 4,
 "nbformat_minor": 2
}
